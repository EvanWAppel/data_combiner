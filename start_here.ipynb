{
 "cells": [
  {
   "cell_type": "markdown",
   "metadata": {},
   "source": [
    "# How to run the Prometheus project\n",
    "\n",
    "Run the following code block."
   ]
  },
  {
   "cell_type": "code",
   "execution_count": null,
   "metadata": {},
   "outputs": [],
   "source": [
    "import run"
   ]
  },
  {
   "cell_type": "markdown",
   "metadata": {},
   "source": [
    "To run diagnostic tests, run the following code block"
   ]
  },
  {
   "cell_type": "code",
   "execution_count": null,
   "metadata": {},
   "outputs": [],
   "source": [
    "import tests"
   ]
  },
  {
   "cell_type": "markdown",
   "metadata": {},
   "source": [
    "To transfer files from DLA's inbox to the source data file run the following code block "
   ]
  },
  {
   "cell_type": "code",
   "execution_count": null,
   "metadata": {},
   "outputs": [],
   "source": [
    "import dla_mail_retriever"
   ]
  },
  {
   "cell_type": "markdown",
   "metadata": {},
   "source": [
    "If you like pina coladas..."
   ]
  },
  {
   "cell_type": "code",
   "execution_count": 1,
   "metadata": {},
   "outputs": [
    {
     "name": "stdout",
     "output_type": "stream",
     "text": [
      "Come on, let's be serious here.\n"
     ]
    }
   ],
   "source": [
    "import party"
   ]
  },
  {
   "cell_type": "code",
   "execution_count": 2,
   "metadata": {},
   "outputs": [
    {
     "name": "stdout",
     "output_type": "stream",
     "text": [
      ">>> 2024-08-15 16:10:13.226196 ]|[ Assumptions loaded.\n",
      ">>> 2024-08-15 16:10:13.236068 ]|[ Source is N:\\Marketing Analytics\\Brand Analysis\\04 - Dashboards\\Brand Spend Data Model\\Source Data\n",
      ">>> 2024-08-15 16:10:13.243183 ]|[ Target is N:\\Marketing Analytics\\Brand Analysis\\04 - Dashboards\\Brand Spend Data Model\\Target Data\n"
     ]
    },
    {
     "name": "stderr",
     "output_type": "stream",
     "text": [
      "C:\\Users\\eappel\\AppData\\Local\\Temp\\ipykernel_21748\\2587288109.py:5: DtypeWarning: Columns (1,2,3,4,5,6,7,8,9,10,12,13,14,16,17,18,20,25,26,30,31,33,35,37,38,39,40,42,51,52,53,54,55,56,60,61,62,63,64,65,66,67,68,69,70,71,72,74,75,76,77,78,79,80,81,82,83,84,85,86,87,88,89,90,91,92,93,94,95,96,97,98,99,100,101,102,103,104,105,107,108,110,111,112,113,114,115,116,117,118,119) have mixed types. Specify dtype option on import or set low_memory=False.\n",
      "  thing = pd.read_csv(os.path.join(utils.assumptions()['target'],r'BrandSpendMaster.csv'))\n"
     ]
    }
   ],
   "source": [
    "import pandas as pd\n",
    "import os.path\n",
    "import utils\n",
    "\n",
    "thing = pd.read_csv(os.path.join(utils.assumptions()['target'],r'BrandSpendMaster.csv'))\n",
    "col = list(thing.columns)"
   ]
  }
 ],
 "metadata": {
  "kernelspec": {
   "display_name": "venv",
   "language": "python",
   "name": "venv"
  },
  "language_info": {
   "codemirror_mode": {
    "name": "ipython",
    "version": 3
   },
   "file_extension": ".py",
   "mimetype": "text/x-python",
   "name": "python",
   "nbconvert_exporter": "python",
   "pygments_lexer": "ipython3",
   "version": "3.11.9"
  }
 },
 "nbformat": 4,
 "nbformat_minor": 2
}
