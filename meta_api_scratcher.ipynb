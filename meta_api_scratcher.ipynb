{
 "cells": [
  {
   "cell_type": "code",
   "execution_count": 1,
   "metadata": {},
   "outputs": [],
   "source": [
    "import pandas as pd\n",
    "import os.path\n",
    "import openpyxl as xl\n",
    "import channels\n",
    "import utils\n",
    "import re\n",
    "import json\n",
    "import facebook_business.api as fbapi\n",
    "import facebook_business.adobjects.adaccount as a\n",
    "import facebook_business.session as s\n"
   ]
  },
  {
   "cell_type": "code",
   "execution_count": 2,
   "metadata": {},
   "outputs": [],
   "source": [
    "# Retrieve configuration stuff\n",
    "config_file = os.path.join(os.getcwd(),r\"facebook_business\\config.json\")\n",
    "config_open = open(config_file)\n",
    "config = json.load(config_open)"
   ]
  },
  {
   "cell_type": "code",
   "execution_count": 3,
   "metadata": {},
   "outputs": [
    {
     "name": "stdout",
     "output_type": "stream",
     "text": [
      ">>> 2024-08-13 11:35:33.493611 ]|[ Assumptions loaded.\n",
      ">>> 2024-08-13 11:35:33.493611 ]|[ Source is N:\\Marketing Analytics\\Brand Analysis\\04 - Dashboards\\Brand Spend Data Model\\Source Data\n",
      ">>> 2024-08-13 11:35:33.516748 ]|[ Target is N:\\Marketing Analytics\\Brand Analysis\\04 - Dashboards\\Brand Spend Data Model\\Target Data\n",
      ">>> 2024-08-13 11:35:33.593807 ]|[ Assumptions loaded.\n",
      ">>> 2024-08-13 11:35:33.610504 ]|[ Source is N:\\Marketing Analytics\\Brand Analysis\\04 - Dashboards\\Brand Spend Data Model\\Source Data\n",
      ">>> 2024-08-13 11:35:33.610504 ]|[ Target is N:\\Marketing Analytics\\Brand Analysis\\04 - Dashboards\\Brand Spend Data Model\\Target Data\n",
      ">>> 2024-08-13 11:35:33.637851 ]|[ Files gathered based on .*[Ss]ocial.* applied to N:\\Marketing Analytics\\Brand Analysis\\04 - Dashboards\\Brand Spend Data Model\\Source Data:\n",
      ">>> 2024-08-13 11:35:33.643642 ]|[ TARGET FILE NAME: C1B-Paid-Social-NDC1 (2).xlsx\n",
      ">>> 2024-08-13 11:35:33.659576 ]|[ TARGET FILE NAME: C1B-Paid-Social-NDC1 old.xlsx\n",
      ">>> 2024-08-13 11:35:33.665854 ]|[ TARGET FILE NAME: C1B-Paid-Social-NDC1-2023dec.xlsx\n",
      ">>> 2024-08-13 11:35:33.678463 ]|[ TARGET FILE NAME: C1B-Social-Apr-1-2024-to-Apr-30-2024.csv\n",
      ">>> 2024-08-13 11:35:33.687370 ]|[ TARGET FILE NAME: C1B-Social-Feb-1-2024-to-Feb-29-2024.csv\n",
      ">>> 2024-08-13 11:35:33.694970 ]|[ TARGET FILE NAME: C1B-Social-Jan-1-2024-to-Jan-31-2024.csv\n",
      ">>> 2024-08-13 11:35:33.704007 ]|[ TARGET FILE NAME: C1B-Social-May-1-2024-to-May-31-2024.csv\n"
     ]
    },
    {
     "name": "stderr",
     "output_type": "stream",
     "text": [
      "c:\\Program Files\\Python311\\Lib\\site-packages\\openpyxl\\styles\\stylesheet.py:226: UserWarning: Workbook contains no default style, apply openpyxl's default\n",
      "  warn(\"Workbook contains no default style, apply openpyxl's default\")\n"
     ]
    },
    {
     "name": "stdout",
     "output_type": "stream",
     "text": [
      ">>> 2024-08-13 11:35:38.678501 ]|[ DF from file C1B-Paid-Social-NDC1 (2).xlsx has len 23051\n",
      "Concat complete\n",
      ">>> 2024-08-13 11:35:49.306809 ]|[ DF from file C1B-Paid-Social-NDC1 old.xlsx has len 50966\n",
      "Concat complete\n"
     ]
    },
    {
     "name": "stderr",
     "output_type": "stream",
     "text": [
      "c:\\Program Files\\Python311\\Lib\\site-packages\\openpyxl\\styles\\stylesheet.py:226: UserWarning: Workbook contains no default style, apply openpyxl's default\n",
      "  warn(\"Workbook contains no default style, apply openpyxl's default\")\n"
     ]
    },
    {
     "name": "stdout",
     "output_type": "stream",
     "text": [
      ">>> 2024-08-13 11:35:51.137387 ]|[ DF from file C1B-Paid-Social-NDC1-2023dec.xlsx has len 1787\n",
      "Concat complete\n",
      ">>> 2024-08-13 11:35:51.873077 ]|[ DF from file C1B-Social-Apr-1-2024-to-Apr-30-2024.csv has len 3066\n",
      "Concat complete\n",
      ">>> 2024-08-13 11:35:52.013288 ]|[ DF from file C1B-Social-Feb-1-2024-to-Feb-29-2024.csv has len 398\n",
      "Concat complete\n",
      ">>> 2024-08-13 11:35:52.295594 ]|[ DF from file C1B-Social-Jan-1-2024-to-Jan-31-2024.csv has len 2503\n",
      "Concat complete\n",
      ">>> 2024-08-13 11:35:52.453185 ]|[ DF from file C1B-Social-May-1-2024-to-May-31-2024.csv has len 468\n",
      "Concat complete\n",
      ">>> 2024-08-13 11:35:52.501425 ]|[ Dataset has len of 82239\n"
     ]
    }
   ],
   "source": [
    "# Get old files\n",
    "# 1. create files for all time all accounts up until August 10\n",
    "# 2. API call finds the latest date in the files and updates them with a new file\n",
    "# 2a. If nothing is found, the API will default to August 10, 2024.\n",
    "hist_soc_data = utils.data_framer(source=utils.assumptions()['source']\n",
    "                                ,files=utils.file_gatherer(utils.assumptions()['source'],criteria=\".*[Ss]ocial.*\")\n",
    "                                ,sheets=None\n",
    "                                ,skiprows=None)\n"
   ]
  },
  {
   "cell_type": "code",
   "execution_count": 4,
   "metadata": {},
   "outputs": [],
   "source": [
    "# Determine when the API should start retrieving data\n",
    "latest_date = hist_soc_data['Day'].max()\n",
    "if latest_date > '2024-08-10':\n",
    "    start_date = latest_date\n",
    "else:\n",
    "     start_date = '2024-08-10'"
   ]
  },
  {
   "cell_type": "code",
   "execution_count": 5,
   "metadata": {},
   "outputs": [],
   "source": [
    "\n",
    "session = s.FacebookSession(app_id=config['app_id'], app_secret=config['app_secret'], access_token=config['access_token'], proxies=None, timeout=None, debug=False)"
   ]
  },
  {
   "cell_type": "code",
   "execution_count": 6,
   "metadata": {},
   "outputs": [
    {
     "ename": "TypeError",
     "evalue": "FacebookAdsApi.__init__() missing 1 required positional argument: 'session'",
     "output_type": "error",
     "traceback": [
      "\u001b[1;31m---------------------------------------------------------------------------\u001b[0m",
      "\u001b[1;31mTypeError\u001b[0m                                 Traceback (most recent call last)",
      "Cell \u001b[1;32mIn[6], line 1\u001b[0m\n\u001b[1;32m----> 1\u001b[0m connection \u001b[38;5;241m=\u001b[39m \u001b[43mfbapi\u001b[49m\u001b[38;5;241;43m.\u001b[39;49m\u001b[43mFacebookAdsApi\u001b[49m\u001b[43m(\u001b[49m\u001b[43m)\u001b[49m\u001b[38;5;241m.\u001b[39minit(access_token\u001b[38;5;241m=\u001b[39m\u001b[38;5;124m\"\u001b[39m\u001b[38;5;124mEAADTjffqlZBQBO3HXaZC55FdvL7hZCVemNjsfXWCCe9vaPKWq00nesL3itPng74lj5SIjWuncZBXflH6XR423AvvwV9AuyvkPPG8iRK1KNPgCI5STF8vHLlgieHXr9vmRXXMY0rLBGHzHAecE4lWZBLya5hA8DTXTmLeDGLtyLTYVKiv9EZB20gTkk\u001b[39m\u001b[38;5;124m\"\u001b[39m\n\u001b[0;32m      2\u001b[0m                                              , session\u001b[38;5;241m=\u001b[39msession)\n",
      "\u001b[1;31mTypeError\u001b[0m: FacebookAdsApi.__init__() missing 1 required positional argument: 'session'"
     ]
    }
   ],
   "source": [
    "\n",
    "connection = fbapi.FacebookAdsApi().init(access_token=\"EAADTjffqlZBQBO3HXaZC55FdvL7hZCVemNjsfXWCCe9vaPKWq00nesL3itPng74lj5SIjWuncZBXflH6XR423AvvwV9AuyvkPPG8iRK1KNPgCI5STF8vHLlgieHXr9vmRXXMY0rLBGHzHAecE4lWZBLya5hA8DTXTmLeDGLtyLTYVKiv9EZB20gTkk\"\n",
    "                                             , session=session)\n"
   ]
  },
  {
   "cell_type": "code",
   "execution_count": null,
   "metadata": {},
   "outputs": [],
   "source": [
    "\n",
    "# Access Token Sorter\n",
    "# if len(config['access_token']) > 1:\n",
    "#     if access_checker(access_token=config['access_token']):\n",
    "#         print(f\"{time.time()} >>> Option 1: Long-term access token available and valid.\",file=open(log,'a'))\n",
    "#         access_token = self.access_token\n",
    "#         days = 60\n",
    "#     else:\n",
    "#         print(f\"{time.time()} >>> Option 2: Long-term access token available, but invalid.\",file=open(log,'a'))\n",
    "#         new_access_token = input(\"Please enter a new access token.\")\n",
    "#         response = self.get_fb_token(access_token=new_access_token)\n",
    "#         access_token = response.json()['access_token']\n",
    "#         self.token_writer(access_token=access_token)\n",
    "#         days = response.json()['expires_in'] / 60 / 60 / 24\n",
    "# else:\n",
    "#     if self.access_checker(access_token=self.initial_access_token):\n",
    "#         print(f\"{time.time()} >>> Option 3: No long-term access token, initial access token used to create long-term access token.\",file=open(log,'a'))\n",
    "#         response = self.get_fb_token(access_token=self.initial_access_token)\n",
    "#         access_token = response.json()['access_token']\n",
    "#         self.token_writer(access_token=access_token)\n",
    "#         days = response.json()['expires_in'] / 60 / 60 / 24\n",
    "#     else:\n",
    "#         print(f\"{time.time()} >>> option 4: No valid access tokens availble, please enter new token.\",file=open(log,'a'))\n",
    "#         new_access_token = input(\"Please enter a new access token.\")\n",
    "#         response = self.get_fb_token(access_token=new_access_token)\n",
    "#         access_token = response.json()['access_token']\n",
    "#         self.token_writer(access_token=access_token)\n",
    "#         days = response.json()['expires_in'] / 60 / 60 / 24\n",
    "\n",
    "# print(f\"This access_token expires in {str(days)} days.\",file=open(log,'a'))"
   ]
  },
  {
   "cell_type": "markdown",
   "metadata": {},
   "source": [
    "Did i call her out on her bullshit in the middle of a lie?\n",
    "\n",
    "What in the fuck is this DM test?\n",
    "What does it have to do with brand?\n"
   ]
  }
 ],
 "metadata": {
  "kernelspec": {
   "display_name": "venv",
   "language": "python",
   "name": "venv"
  },
  "language_info": {
   "codemirror_mode": {
    "name": "ipython",
    "version": 3
   },
   "file_extension": ".py",
   "mimetype": "text/x-python",
   "name": "python",
   "nbconvert_exporter": "python",
   "pygments_lexer": "ipython3",
   "version": "3.11.7"
  }
 },
 "nbformat": 4,
 "nbformat_minor": 2
}
